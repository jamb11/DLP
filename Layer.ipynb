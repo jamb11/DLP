{
  "nbformat": 4,
  "nbformat_minor": 0,
  "metadata": {
    "colab": {
      "provenance": [],
      "authorship_tag": "ABX9TyNz1MlEA0WPZvduuw8AL+Gs",
      "include_colab_link": true
    },
    "kernelspec": {
      "name": "python3",
      "display_name": "Python 3"
    },
    "language_info": {
      "name": "python"
    }
  },
  "cells": [
    {
      "cell_type": "markdown",
      "metadata": {
        "id": "view-in-github",
        "colab_type": "text"
      },
      "source": [
        "<a href=\"https://colab.research.google.com/github/jamb11/DLP/blob/main/Layer.ipynb\" target=\"_parent\"><img src=\"https://colab.research.google.com/assets/colab-badge.svg\" alt=\"Open In Colab\"/></a>"
      ]
    },
    {
      "cell_type": "code",
      "execution_count": 1,
      "metadata": {
        "colab": {
          "base_uri": "https://localhost:8080/"
        },
        "id": "7tR09R3YZ-de",
        "outputId": "f9772b88-8e64-47d3-850c-1a32e7300cf5"
      },
      "outputs": [
        {
          "output_type": "stream",
          "name": "stdout",
          "text": [
            "Looking in indexes: https://pypi.org/simple, https://us-python.pkg.dev/colab-wheels/public/simple/\n",
            "Requirement already satisfied: cryptography in /usr/local/lib/python3.9/dist-packages (40.0.1)\n",
            "Requirement already satisfied: cffi>=1.12 in /usr/local/lib/python3.9/dist-packages (from cryptography) (1.15.1)\n",
            "Requirement already satisfied: pycparser in /usr/local/lib/python3.9/dist-packages (from cffi>=1.12->cryptography) (2.21)\n"
          ]
        }
      ],
      "source": [
        "pip install cryptography"
      ]
    },
    {
      "cell_type": "code",
      "source": [
        "\n",
        "from cryptography.fernet import Fernet"
      ],
      "metadata": {
        "id": "irH9CpcVa2QE"
      },
      "execution_count": 2,
      "outputs": []
    },
    {
      "cell_type": "code",
      "source": [
        "key = Fernet.generate_key()\n",
        "\n",
        "with open('mykey.key', 'wb') as mykey:\n",
        "    mykey.write(key)"
      ],
      "metadata": {
        "id": "_Hj4p9vGa_8y"
      },
      "execution_count": 3,
      "outputs": []
    },
    {
      "cell_type": "code",
      "source": [
        "with open('mykey.key', 'rb') as mykey:\n",
        "    key = mykey.read()\n",
        "\n",
        "print(key)"
      ],
      "metadata": {
        "colab": {
          "base_uri": "https://localhost:8080/"
        },
        "id": "Heu4Yf3JbE_I",
        "outputId": "ec040685-7409-40c6-a906-cc8c6cb3ae32"
      },
      "execution_count": 5,
      "outputs": [
        {
          "output_type": "stream",
          "name": "stdout",
          "text": [
            "b'gy4nvqX6NaDN3O8iVoJFeYP-mrpDyuFKmm5eHUD5XxM='\n"
          ]
        }
      ]
    },
    {
      "cell_type": "code",
      "source": [
        "f = Fernet(key)\n",
        "\n",
        "with open('grades.csv', 'rb') as original_file:\n",
        "    original = original_file.read()\n",
        "\n",
        "encrypted = f.encrypt(original)\n",
        "\n",
        "with open ('enc_grades.csv', 'wb') as encrypted_file:\n",
        "    encrypted_file.write(encrypted)"
      ],
      "metadata": {
        "id": "Thj_xAxqbGm_"
      },
      "execution_count": 6,
      "outputs": []
    },
    {
      "cell_type": "code",
      "source": [
        "f = Fernet(key)\n",
        "\n",
        "with open('enc_grades.csv', 'rb') as encrypted_file:\n",
        "    encrypted = encrypted_file.read()\n",
        "\n",
        "decrypted = f.decrypt(encrypted)\n",
        "\n",
        "with open('dec_grades.csv', 'wb') as decrypted_file:\n",
        "    decrypted_file.write(decrypted)"
      ],
      "metadata": {
        "id": "TIKjJ77fbknP"
      },
      "execution_count": 7,
      "outputs": []
    },
    {
      "cell_type": "code",
      "source": [
        "\n",
        "class Encryptor():\n",
        "\n",
        "    def key_create(self):\n",
        "        key = Fernet.generate_key()\n",
        "        return key\n",
        "\n",
        "    def key_write(self, key, key_name):\n",
        "        with open(key_name, 'wb') as mykey:\n",
        "            mykey.write(key)\n",
        "\n",
        "    def key_load(self, key_name):\n",
        "        with open(key_name, 'rb') as mykey:\n",
        "            key = mykey.read()\n",
        "        return key\n",
        "\n",
        "\n",
        "    def file_encrypt(self, key, original_file, encrypted_file):\n",
        "        \n",
        "        f = Fernet(key)\n",
        "\n",
        "        with open(original_file, 'rb') as file:\n",
        "            original = file.read()\n",
        "\n",
        "        encrypted = f.encrypt(original)\n",
        "\n",
        "        with open (encrypted_file, 'wb') as file:\n",
        "            file.write(encrypted)\n",
        "\n",
        "    def file_decrypt(self, key, encrypted_file, decrypted_file):\n",
        "        \n",
        "        f = Fernet(key)\n",
        "\n",
        "        with open(encrypted_file, 'rb') as file:\n",
        "            encrypted = file.read()\n",
        "\n",
        "        decrypted = f.decrypt(encrypted)\n",
        "\n",
        "        with open(decrypted_file, 'wb') as file:\n",
        "            file.write(decrypted)\n",
        "# view rawencrypt5.py hosted with ❤ by GitHub"
      ],
      "metadata": {
        "id": "AbsZ7FB2bz9S"
      },
      "execution_count": 8,
      "outputs": []
    },
    {
      "cell_type": "code",
      "source": [
        "encryptor=Encryptor()\n",
        "\n",
        "mykey=encryptor.key_create()\n",
        "\n",
        "encryptor.key_write(mykey, 'mykey.key')\n",
        "\n",
        "loaded_key=encryptor.key_load('mykey.key')\n",
        "\n",
        "encryptor.file_encrypt(loaded_key, 'grades.csv', 'enc_grades.csv')\n",
        "\n",
        "encryptor.file_decrypt(loaded_key, 'enc_grades.csv', 'dec_grades.csv')"
      ],
      "metadata": {
        "id": "pROyHbhjcFha"
      },
      "execution_count": 9,
      "outputs": []
    },
    {
      "cell_type": "code",
      "source": [
        "from flask import Flask  \n",
        "  \n",
        "app = Flask(__name__) #creating the Flask class object   \n",
        " \n",
        "@app.route('/') #decorator drfines the   \n",
        "def home():  \n",
        "    return \"hello, this is our first flask website\";  \n",
        "\n",
        "if __name__ =='__main__':  \n",
        "    app.run(debug = True)  "
      ],
      "metadata": {
        "colab": {
          "base_uri": "https://localhost:8080/"
        },
        "id": "Vop-REX5cKyQ",
        "outputId": "7a7cef8b-400c-4b6a-d097-392c25018166"
      },
      "execution_count": 10,
      "outputs": [
        {
          "output_type": "stream",
          "name": "stdout",
          "text": [
            " * Serving Flask app '__main__'\n",
            " * Debug mode: on\n"
          ]
        },
        {
          "output_type": "stream",
          "name": "stderr",
          "text": [
            "INFO:werkzeug:\u001b[31m\u001b[1mWARNING: This is a development server. Do not use it in a production deployment. Use a production WSGI server instead.\u001b[0m\n",
            " * Running on http://127.0.0.1:5000\n",
            "INFO:werkzeug:\u001b[33mPress CTRL+C to quit\u001b[0m\n",
            "INFO:werkzeug: * Restarting with stat\n"
          ]
        }
      ]
    },
    {
      "cell_type": "code",
      "source": [],
      "metadata": {
        "id": "HinoL0SUdYux"
      },
      "execution_count": null,
      "outputs": []
    }
  ]
}